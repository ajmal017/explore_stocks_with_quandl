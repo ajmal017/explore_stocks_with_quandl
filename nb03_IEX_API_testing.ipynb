{
 "cells": [
  {
   "cell_type": "code",
   "execution_count": 1,
   "metadata": {},
   "outputs": [
    {
     "name": "stdout",
     "output_type": "stream",
     "text": [
      "env: IEX_API_VERSION=iexcloud-sandbox\n",
      "env: IEX_OUTPUT_FORMAT=pandas\n"
     ]
    }
   ],
   "source": [
    "# use this notebook to test interaction with the IEX Test API\n",
    "import os\n",
    "import pandas_ta as ta\n",
    "\n",
    "# IEX - \n",
    "# pypi link: https://pypi.org/project/iexfinance/\n",
    "# requires ENV VAR NAME:  IEX_TOKEN\n",
    "#\n",
    "# usage estimates\n",
    "# Free tier gives user \"500K messages\" per month\n",
    "# using IEX API:get_historical_data gives daily results for:  date\topen\thigh\tlow\tclose\tvolume; \n",
    "# 5 years worth of data = approx 12,500 messages \n",
    "\n",
    "# to use IEX test token, we must use a test-specific API token AND set the IEX API VERSION to a specific string\n",
    "IEX_TEST_TOKEN = os.environ.get(\"IEX_TOKEN_TEST\")\n",
    "token = os.environ.get(\"IEX_TOKEN_TEST\")\n",
    "\n",
    "# set env vars needed to use IEX test API\n",
    "# `%env` in jupyter lab replaces `export` from terminal\n",
    "%env IEX_API_VERSION=iexcloud-sandbox\n",
    "%env IEX_OUTPUT_FORMAT=pandas\n",
    "\n",
    "from iexfinance.stocks import Stock\n",
    "\n",
    "aapl = Stock(\"AAPL\", token=IEX_TEST_TOKEN)"
   ]
  },
  {
   "cell_type": "code",
   "execution_count": 2,
   "metadata": {},
   "outputs": [
    {
     "name": "stdout",
     "output_type": "stream",
     "text": [
      "        AAPL\n",
      "AAPL  194.92\n"
     ]
    }
   ],
   "source": [
    "print(aapl.get_price())"
   ]
  },
  {
   "cell_type": "code",
   "execution_count": 3,
   "metadata": {},
   "outputs": [
    {
     "name": "stdout",
     "output_type": "stream",
     "text": [
      "                                 AAPL\n",
      "                           2019-04-02\n",
      "accountsPayable           31797339784\n",
      "capitalSurplus                   None\n",
      "commonStock               43510974585\n",
      "currentAssets            128469872879\n",
      "currentCash               40074647198\n",
      "currentLongTermDebt       10870382469\n",
      "goodwill                            0\n",
      "intangibleAssets                 None\n",
      "inventory                  5025032765\n",
      "longTermDebt              93083886308\n",
      "longTermInvestments      153022285392\n",
      "minorityInterest                    0\n",
      "netTangibleAssets        109562521353\n",
      "otherAssets               33789036962\n",
      "otherCurrentAssets        12060064374\n",
      "otherCurrentLiabilities   41309281572\n",
      "otherLiabilities           6466730060\n",
      "propertyPlantEquipment    40274096922\n",
      "receivables               15484667457\n",
      "reportDate                 2019-04-02\n",
      "retainedEarnings          67451943046\n",
      "shareholderEquity        108042165663\n",
      "shortTermInvestments      42342759207\n",
      "totalAssets              356943897244\n",
      "totalCurrentLiabilities   97006640836\n",
      "totalLiabilities         243703491807\n",
      "treasuryStock                    None\n"
     ]
    }
   ],
   "source": [
    "aapl_balance = aapl.get_balance_sheet()\n",
    "print(aapl_balance)"
   ]
  },
  {
   "cell_type": "code",
   "execution_count": 4,
   "metadata": {},
   "outputs": [
    {
     "data": {
      "text/html": [
       "<div>\n",
       "<style scoped>\n",
       "    .dataframe tbody tr th:only-of-type {\n",
       "        vertical-align: middle;\n",
       "    }\n",
       "\n",
       "    .dataframe tbody tr th {\n",
       "        vertical-align: top;\n",
       "    }\n",
       "\n",
       "    .dataframe thead tr th {\n",
       "        text-align: left;\n",
       "    }\n",
       "</style>\n",
       "<table border=\"1\" class=\"dataframe\">\n",
       "  <thead>\n",
       "    <tr>\n",
       "      <th></th>\n",
       "      <th colspan=\"11\" halign=\"left\">AAPL</th>\n",
       "    </tr>\n",
       "    <tr>\n",
       "      <th></th>\n",
       "      <th>aaWnLs Sgey urnnne</th>\n",
       "      <th>. sJallBee mA</th>\n",
       "      <th>nsh CKoirdo</th>\n",
       "      <th>re. eiJ lfamEWsyfil</th>\n",
       "      <th>ren aJugdAn</th>\n",
       "      <th>A onesn.iuvrth DLr</th>\n",
       "      <th>e. oRbAgrtr eI</th>\n",
       "      <th>. uSRl rgDdnaoa</th>\n",
       "      <th>rorlAeb rGnAoted l</th>\n",
       "      <th>uaisrecMatL</th>\n",
       "      <th>iDeO nrri'dBeer</th>\n",
       "    </tr>\n",
       "  </thead>\n",
       "  <tbody>\n",
       "    <tr>\n",
       "      <th>fullName</th>\n",
       "      <td>aaWnLs Sgey urnnne</td>\n",
       "      <td>. sJallBee mA</td>\n",
       "      <td>nsh CKoirdo</td>\n",
       "      <td>re. eiJ lfamEWsyfil</td>\n",
       "      <td>ren aJugdAn</td>\n",
       "      <td>A onesn.iuvrth DLr</td>\n",
       "      <td>e. oRbAgrtr eI</td>\n",
       "      <td>. uSRl rgDdnaoa</td>\n",
       "      <td>rorlAeb rGnAoted l</td>\n",
       "      <td>uaisrecMatL</td>\n",
       "      <td>iDeO nrri'dBeer</td>\n",
       "    </tr>\n",
       "    <tr>\n",
       "      <th>netTransacted</th>\n",
       "      <td>1490</td>\n",
       "      <td>1493</td>\n",
       "      <td>-3080</td>\n",
       "      <td>-106311</td>\n",
       "      <td>1467</td>\n",
       "      <td>-36390</td>\n",
       "      <td>1458</td>\n",
       "      <td>1449</td>\n",
       "      <td>1478</td>\n",
       "      <td>-108813</td>\n",
       "      <td>312602</td>\n",
       "    </tr>\n",
       "    <tr>\n",
       "      <th>reportedTitle</th>\n",
       "      <td>eDroicrt</td>\n",
       "      <td>etriDcor</td>\n",
       "      <td>ngt rrl icinuifPceiaOAoncfpc</td>\n",
       "      <td>OCO</td>\n",
       "      <td>riotrDce</td>\n",
       "      <td>riorteDc</td>\n",
       "      <td>ctirroDe</td>\n",
       "      <td>ritDecor</td>\n",
       "      <td>Dceirrto</td>\n",
       "      <td>icdreO,tsire PeSnVno FiCe</td>\n",
       "      <td>tcniPniiesSVeed ero r</td>\n",
       "    </tr>\n",
       "    <tr>\n",
       "      <th>totalBought</th>\n",
       "      <td>2970</td>\n",
       "      <td>2972</td>\n",
       "      <td>7229</td>\n",
       "      <td>110246</td>\n",
       "      <td>3049</td>\n",
       "      <td>39010</td>\n",
       "      <td>3090</td>\n",
       "      <td>2951</td>\n",
       "      <td>38109</td>\n",
       "      <td>109801</td>\n",
       "      <td>350686</td>\n",
       "    </tr>\n",
       "    <tr>\n",
       "      <th>totalSold</th>\n",
       "      <td>-1581</td>\n",
       "      <td>-1539</td>\n",
       "      <td>-10213</td>\n",
       "      <td>-217720</td>\n",
       "      <td>-1535</td>\n",
       "      <td>-75297</td>\n",
       "      <td>-1582</td>\n",
       "      <td>-1554</td>\n",
       "      <td>-36920</td>\n",
       "      <td>-210824</td>\n",
       "      <td>-35858</td>\n",
       "    </tr>\n",
       "  </tbody>\n",
       "</table>\n",
       "</div>"
      ],
      "text/plain": [
       "                             AAPL                 \\\n",
       "               aaWnLs Sgey urnnne  . sJallBee mA   \n",
       "fullName       aaWnLs Sgey urnnne  . sJallBee mA   \n",
       "netTransacted                1490           1493   \n",
       "reportedTitle            eDroicrt       etriDcor   \n",
       "totalBought                  2970           2972   \n",
       "totalSold                   -1581          -1539   \n",
       "\n",
       "                                                                               \\\n",
       "                                nsh CKoirdo  re. eiJ lfamEWsyfil  ren aJugdAn   \n",
       "fullName                        nsh CKoirdo  re. eiJ lfamEWsyfil  ren aJugdAn   \n",
       "netTransacted                         -3080              -106311         1467   \n",
       "reportedTitle  ngt rrl icinuifPceiaOAoncfpc                  OCO     riotrDce   \n",
       "totalBought                            7229               110246         3049   \n",
       "totalSold                            -10213              -217720        -1535   \n",
       "\n",
       "                                                                    \\\n",
       "               A onesn.iuvrth DLr  e. oRbAgrtr eI  . uSRl rgDdnaoa   \n",
       "fullName       A onesn.iuvrth DLr  e. oRbAgrtr eI  . uSRl rgDdnaoa   \n",
       "netTransacted              -36390            1458             1449   \n",
       "reportedTitle            riorteDc        ctirroDe         ritDecor   \n",
       "totalBought                 39010            3090             2951   \n",
       "totalSold                  -75297           -1582            -1554   \n",
       "\n",
       "                                                               \\\n",
       "               rorlAeb rGnAoted l                 uaisrecMatL   \n",
       "fullName       rorlAeb rGnAoted l                 uaisrecMatL   \n",
       "netTransacted                1478                     -108813   \n",
       "reportedTitle            Dceirrto  icdreO,tsire PeSnVno FiCe    \n",
       "totalBought                 38109                      109801   \n",
       "totalSold                  -36920                     -210824   \n",
       "\n",
       "                                      \n",
       "                     iDeO nrri'dBeer  \n",
       "fullName             iDeO nrri'dBeer  \n",
       "netTransacted                 312602  \n",
       "reportedTitle  tcniPniiesSVeed ero r  \n",
       "totalBought                   350686  \n",
       "totalSold                     -35858  "
      ]
     },
     "execution_count": 4,
     "metadata": {},
     "output_type": "execute_result"
    }
   ],
   "source": [
    "aapl.get_insider_summary()"
   ]
  },
  {
   "cell_type": "code",
   "execution_count": 5,
   "metadata": {},
   "outputs": [
    {
     "data": {
      "text/html": [
       "<div>\n",
       "<style scoped>\n",
       "    .dataframe tbody tr th:only-of-type {\n",
       "        vertical-align: middle;\n",
       "    }\n",
       "\n",
       "    .dataframe tbody tr th {\n",
       "        vertical-align: top;\n",
       "    }\n",
       "\n",
       "    .dataframe thead th {\n",
       "        text-align: right;\n",
       "    }\n",
       "</style>\n",
       "<table border=\"1\" class=\"dataframe\">\n",
       "  <thead>\n",
       "    <tr style=\"text-align: right;\">\n",
       "      <th></th>\n",
       "      <th>AAPL</th>\n",
       "    </tr>\n",
       "  </thead>\n",
       "  <tbody>\n",
       "    <tr>\n",
       "      <th>url</th>\n",
       "      <td>gheA/tsp/goiLeo/tm//pisoegacaaPgoinsArlptpg/.s...</td>\n",
       "    </tr>\n",
       "  </tbody>\n",
       "</table>\n",
       "</div>"
      ],
      "text/plain": [
       "                                                  AAPL\n",
       "url  gheA/tsp/goiLeo/tm//pisoegacaaPgoinsArlptpg/.s..."
      ]
     },
     "execution_count": 5,
     "metadata": {},
     "output_type": "execute_result"
    }
   ],
   "source": [
    "aapl.get_logo()"
   ]
  },
  {
   "cell_type": "code",
   "execution_count": 6,
   "metadata": {},
   "outputs": [
    {
     "name": "stderr",
     "output_type": "stream",
     "text": [
      "/home/chris/0.Surfaceowl/explore_stocks_with_quandl/venv/lib/python3.7/site-packages/iexfinance/altdata/__init__.py:48: UserWarning: UNSTABLE ENDPOINT: Not yet fully implemented by the provider.\n",
      "  warnings.warn(\"UNSTABLE ENDPOINT: Not yet fully implemented by the \"\n"
     ]
    },
    {
     "name": "stdout",
     "output_type": "stream",
     "text": [
      "Empty DataFrame\n",
      "Columns: []\n",
      "Index: []\n"
     ]
    }
   ],
   "source": [
    "from iexfinance.altdata import get_social_sentiment\n",
    "aapl_sentiment = get_social_sentiment(\"AAPL\", period_type=\"daily\", date=\"2011-06-01\", token=IEX_TEST_TOKEN)\n",
    "print(aapl_sentiment)"
   ]
  },
  {
   "cell_type": "code",
   "execution_count": null,
   "metadata": {},
   "outputs": [],
   "source": []
  }
 ],
 "metadata": {
  "kernelspec": {
   "display_name": "Python 3",
   "language": "python",
   "name": "python3"
  },
  "language_info": {
   "codemirror_mode": {
    "name": "ipython",
    "version": 3
   },
   "file_extension": ".py",
   "mimetype": "text/x-python",
   "name": "python",
   "nbconvert_exporter": "python",
   "pygments_lexer": "ipython3",
   "version": "3.7.3"
  }
 },
 "nbformat": 4,
 "nbformat_minor": 2
}
