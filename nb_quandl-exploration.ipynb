{
 "cells": [
  {
   "cell_type": "markdown",
   "metadata": {},
   "source": [
    "## Before you use this notebook..\n",
    "\n",
    "#### FIRST - setup a Quandl account, and get an API token for youself\n",
    "#### SECOND - create an environment variable titled `quandl.ApiConfig.api_key`; assign it the value of your Quandl API token\n",
    "#### THIRD - in this folder, from the terminal activate your virtual environment and `pip install -r requirements.txt`\n",
    "#### FOURTH - edit and run `retrieve_stock_history.py` to get datafiles "
   ]
  },
  {
   "cell_type": "markdown",
   "metadata": {},
   "source": [
    "### Setup jupyter notebook for analyis of stock portfolios "
   ]
  },
  {
   "cell_type": "code",
   "execution_count": 1,
   "metadata": {
    "ExecuteTime": {
     "end_time": "2018-11-01T00:34:07.319090Z",
     "start_time": "2018-11-01T00:34:04.378093Z"
    }
   },
   "outputs": [
    {
     "data": {
      "text/html": [
       "<style>.container { width:100% !important; }</style>"
      ],
      "text/plain": [
       "<IPython.core.display.HTML object>"
      ]
     },
     "metadata": {},
     "output_type": "display_data"
    }
   ],
   "source": [
    "import os\n",
    "import pandas as pd\n",
    "import prettypandas as PrettyPandas\n",
    "import numpy as np\n",
    "import tabulate\n",
    "\n",
    "# import visualization libraries, and do some configuration of this jupyter notebook\n",
    "import plotly\n",
    "import bokeh\n",
    "import seaborn as sns\n",
    "import matplotlib\n",
    "import matplotlib.pyplot as plt\n",
    "import matplotlib.dates as mdates\n",
    "%matplotlib inline\n",
    "from IPython.core.display import display, HTML\n",
    "display(HTML(\"<style>.container { width:100% !important; }</style>\"))\n",
    "\n",
    "# other visualization libraries\n",
    "import seaborn\n",
    "from bokeh.plotting import figure\n",
    "from bokeh.plotting import output_file, output_notebook , show\n",
    "from bokeh.io import show, output_notebook\n",
    "from bokeh.io import export_png\n",
    "from bokeh.models import ColumnDataSource, HoverTool, CategoricalColorMapper\n",
    "from bokeh.palettes import Category10_5, Category20_16\n",
    "\n",
    "# enable multiple outputs per cell \n",
    "from IPython.core.interactiveshell import InteractiveShell\n",
    "InteractiveShell.ast_node_interactivity = \"all\""
   ]
  },
  {
   "cell_type": "markdown",
   "metadata": {},
   "source": [
    "### Edit retrieve_stock_history.py  ---- put in stocks we want and our date range\n",
    "\n",
    "### then, download data into the notebook"
   ]
  },
  {
   "cell_type": "code",
   "execution_count": 2,
   "metadata": {
    "ExecuteTime": {
     "end_time": "2018-11-01T00:34:07.349090Z",
     "start_time": "2018-11-01T00:34:07.321092Z"
    }
   },
   "outputs": [
    {
     "name": "stdout",
     "output_type": "stream",
     "text": [
      "original feature list: \n",
      " ['Unnamed: 0', 'Returns', 'Volatility', 'AAPL_Weight', 'AMZN_Weight', 'FB_Weight', 'GOOG_Weight', 'INTC_Weight', 'NVDA_Weight', 'TSLA_Weight'] \n",
      "\n",
      "clean feature list: \n",
      " ['Returns', 'Volatility', 'AAPL_Weight', 'AMZN_Weight', 'FB_Weight', 'GOOG_Weight', 'INTC_Weight', 'NVDA_Weight', 'TSLA_Weight']\n"
     ]
    }
   ],
   "source": [
    "# here we read in the ticker symbols first, and convert to a list for later use\n",
    "# in the csv we see that the first column is the old index and shows as `Unnamed: 0`; get rid of it\n",
    "df_features = pd.read_csv(\"./data/quandl_test2_tickers.csv\")\n",
    "features = list(df_features.columns.values)\n",
    "print(\"original feature list: \\n\", features, \"\\n\")\n",
    "features.remove('Unnamed: 0')\n",
    "print(\"clean feature list: \\n\", features)"
   ]
  },
  {
   "cell_type": "code",
   "execution_count": 3,
   "metadata": {
    "ExecuteTime": {
     "end_time": "2018-11-01T00:34:08.126091Z",
     "start_time": "2018-11-01T00:34:07.352092Z"
    }
   },
   "outputs": [],
   "source": [
    "# read in the main stock data, and drop the old index which is seen as 'Unnamed: 0' in the csv. \n",
    "# hide the output of this big table with a semicolon after last command\n",
    "df = pd.read_csv(\"./data/quandl_test2.csv\",\n",
    "    sep=r'\\s*,\\s*',\n",
    "    engine='python',\n",
    "    na_values=\"?\")\n",
    "\n",
    "df.drop(['Unnamed: 0'], axis=1);"
   ]
  },
  {
   "cell_type": "code",
   "execution_count": 4,
   "metadata": {
    "ExecuteTime": {
     "end_time": "2018-11-01T00:34:08.145091Z",
     "start_time": "2018-11-01T00:34:08.127089Z"
    }
   },
   "outputs": [
    {
     "data": {
      "text/html": [
       "<div>\n",
       "<style scoped>\n",
       "    .dataframe tbody tr th:only-of-type {\n",
       "        vertical-align: middle;\n",
       "    }\n",
       "\n",
       "    .dataframe tbody tr th {\n",
       "        vertical-align: top;\n",
       "    }\n",
       "\n",
       "    .dataframe thead th {\n",
       "        text-align: right;\n",
       "    }\n",
       "</style>\n",
       "<table border=\"1\" class=\"dataframe\">\n",
       "  <thead>\n",
       "    <tr style=\"text-align: right;\">\n",
       "      <th></th>\n",
       "      <th>Unnamed: 0</th>\n",
       "      <th>Returns</th>\n",
       "      <th>Volatility</th>\n",
       "      <th>AAPL_Weight</th>\n",
       "      <th>AMZN_Weight</th>\n",
       "      <th>FB_Weight</th>\n",
       "      <th>GOOG_Weight</th>\n",
       "      <th>INTC_Weight</th>\n",
       "      <th>NVDA_Weight</th>\n",
       "      <th>TSLA_Weight</th>\n",
       "    </tr>\n",
       "  </thead>\n",
       "  <tbody>\n",
       "    <tr>\n",
       "      <th>0</th>\n",
       "      <td>0</td>\n",
       "      <td>0.383864</td>\n",
       "      <td>0.184852</td>\n",
       "      <td>0.278437</td>\n",
       "      <td>0.037240</td>\n",
       "      <td>0.153728</td>\n",
       "      <td>0.116656</td>\n",
       "      <td>0.203172</td>\n",
       "      <td>0.184399</td>\n",
       "      <td>0.026367</td>\n",
       "    </tr>\n",
       "    <tr>\n",
       "      <th>1</th>\n",
       "      <td>1</td>\n",
       "      <td>0.421205</td>\n",
       "      <td>0.189865</td>\n",
       "      <td>0.172117</td>\n",
       "      <td>0.203705</td>\n",
       "      <td>0.163496</td>\n",
       "      <td>0.179694</td>\n",
       "      <td>0.063528</td>\n",
       "      <td>0.191138</td>\n",
       "      <td>0.026321</td>\n",
       "    </tr>\n",
       "    <tr>\n",
       "      <th>2</th>\n",
       "      <td>2</td>\n",
       "      <td>0.427462</td>\n",
       "      <td>0.196499</td>\n",
       "      <td>0.015064</td>\n",
       "      <td>0.286520</td>\n",
       "      <td>0.292163</td>\n",
       "      <td>0.151929</td>\n",
       "      <td>0.033760</td>\n",
       "      <td>0.178674</td>\n",
       "      <td>0.041890</td>\n",
       "    </tr>\n",
       "    <tr>\n",
       "      <th>3</th>\n",
       "      <td>3</td>\n",
       "      <td>0.443241</td>\n",
       "      <td>0.198988</td>\n",
       "      <td>0.026559</td>\n",
       "      <td>0.230314</td>\n",
       "      <td>0.076166</td>\n",
       "      <td>0.160078</td>\n",
       "      <td>0.167487</td>\n",
       "      <td>0.218774</td>\n",
       "      <td>0.120622</td>\n",
       "    </tr>\n",
       "    <tr>\n",
       "      <th>4</th>\n",
       "      <td>4</td>\n",
       "      <td>0.331484</td>\n",
       "      <td>0.168635</td>\n",
       "      <td>0.293931</td>\n",
       "      <td>0.074841</td>\n",
       "      <td>0.021143</td>\n",
       "      <td>0.316951</td>\n",
       "      <td>0.172565</td>\n",
       "      <td>0.059868</td>\n",
       "      <td>0.060702</td>\n",
       "    </tr>\n",
       "  </tbody>\n",
       "</table>\n",
       "</div>"
      ],
      "text/plain": [
       "   Unnamed: 0   Returns  Volatility  AAPL_Weight  AMZN_Weight  FB_Weight  \\\n",
       "0           0  0.383864    0.184852     0.278437     0.037240   0.153728   \n",
       "1           1  0.421205    0.189865     0.172117     0.203705   0.163496   \n",
       "2           2  0.427462    0.196499     0.015064     0.286520   0.292163   \n",
       "3           3  0.443241    0.198988     0.026559     0.230314   0.076166   \n",
       "4           4  0.331484    0.168635     0.293931     0.074841   0.021143   \n",
       "\n",
       "   GOOG_Weight  INTC_Weight  NVDA_Weight  TSLA_Weight  \n",
       "0     0.116656     0.203172     0.184399     0.026367  \n",
       "1     0.179694     0.063528     0.191138     0.026321  \n",
       "2     0.151929     0.033760     0.178674     0.041890  \n",
       "3     0.160078     0.167487     0.218774     0.120622  \n",
       "4     0.316951     0.172565     0.059868     0.060702  "
      ]
     },
     "execution_count": 4,
     "metadata": {},
     "output_type": "execute_result"
    }
   ],
   "source": [
    "df.head(5)"
   ]
  },
  {
   "cell_type": "code",
   "execution_count": 5,
   "metadata": {
    "ExecuteTime": {
     "end_time": "2018-11-01T00:34:08.165092Z",
     "start_time": "2018-11-01T00:34:08.146091Z"
    }
   },
   "outputs": [
    {
     "name": "stdout",
     "output_type": "stream",
     "text": [
      "-------------  -----  -------  ----\n",
      "variable name  range  min      max\n",
      "Returns        0.3    0.24975  0.59\n",
      "Volatility     0.1    0.16363  0.29\n",
      "AAPL_Weight    0.6    0.0      0.58\n",
      "AMZN_Weight    0.6    2e-05    0.57\n",
      "FB_Weight      0.6    1e-05    0.59\n",
      "GOOG_Weight    0.6    1e-05    0.58\n",
      "INTC_Weight    0.5    0.0      0.53\n",
      "NVDA_Weight    0.6    0.0      0.6\n",
      "TSLA_Weight    0.6    0.0      0.61\n",
      "-------------  -----  -------  ----\n"
     ]
    }
   ],
   "source": [
    "# summarize min and max for each stock\n",
    "df_summary = []\n",
    "df_summary.append(['variable name',\n",
    "                   'range', \n",
    "                   'min', \n",
    "                   'max'])\n",
    "\n",
    "for variable in features:\n",
    "    df_summary.append([variable, \n",
    "                       round(abs(df[variable].min() - df[variable].max()),1), \n",
    "                       round(df[variable].min(),5), \n",
    "                       round(df[variable].max(),2)])\n",
    "\n",
    "\n",
    "from tabulate import tabulate\n",
    "print(tabulate(df_summary))"
   ]
  },
  {
   "cell_type": "code",
   "execution_count": 6,
   "metadata": {
    "ExecuteTime": {
     "end_time": "2018-11-01T00:34:08.508090Z",
     "start_time": "2018-11-01T00:34:08.166090Z"
    }
   },
   "outputs": [
    {
     "data": {
      "text/plain": [
       "array([[<matplotlib.axes._subplots.AxesSubplot object at 0x00000113FA362358>]],\n",
       "      dtype=object)"
      ]
     },
     "execution_count": 6,
     "metadata": {},
     "output_type": "execute_result"
    },
    {
     "data": {
      "image/png": "[encoded data removed]",
      "text/plain": [
       "<Figure size 432x288 with 1 Axes>"
      ]
     },
     "metadata": {
      "needs_background": "light"
     },
     "output_type": "display_data"
    }
   ],
   "source": [
    "df.hist(column='Returns', bins=100)"
   ]
  },
  {
   "cell_type": "markdown",
   "metadata": {},
   "source": [
    "### Interesting, but not so helpful - let's look at this graphically across all the data"
   ]
  },
  {
   "cell_type": "code",
   "execution_count": 8,
   "metadata": {
    "ExecuteTime": {
     "end_time": "2018-11-01T00:36:02.879381Z",
     "start_time": "2018-11-01T00:35:59.639635Z"
    },
    "scrolled": false
   },
   "outputs": [
    {
     "data": {
      "text/plain": [
       "array([[<matplotlib.axes._subplots.AxesSubplot object at 0x00000113F9E51710>]],\n",
       "      dtype=object)"
      ]
     },
     "execution_count": 8,
     "metadata": {},
     "output_type": "execute_result"
    },
    {
     "data": {
      "text/plain": [
       "array([[<matplotlib.axes._subplots.AxesSubplot object at 0x00000113FA71D748>]],\n",
       "      dtype=object)"
      ]
     },
     "execution_count": 8,
     "metadata": {},
     "output_type": "execute_result"
    },
    {
     "data": {
      "text/plain": [
       "array([[<matplotlib.axes._subplots.AxesSubplot object at 0x00000113D6BDB240>]],\n",
       "      dtype=object)"
      ]
     },
     "execution_count": 8,
     "metadata": {},
     "output_type": "execute_result"
    },
    {
     "data": {
      "text/plain": [
       "array([[<matplotlib.axes._subplots.AxesSubplot object at 0x00000113D6B36550>]],\n",
       "      dtype=object)"
      ]
     },
     "execution_count": 8,
     "metadata": {},
     "output_type": "execute_result"
    },
    {
     "data": {
      "text/plain": [
       "array([[<matplotlib.axes._subplots.AxesSubplot object at 0x00000113D6AE0F60>]],\n",
       "      dtype=object)"
      ]
     },
     "execution_count": 8,
     "metadata": {},
     "output_type": "execute_result"
    },
    {
     "data": {
      "text/plain": [
       "array([[<matplotlib.axes._subplots.AxesSubplot object at 0x00000113FB7730B8>]],\n",
       "      dtype=object)"
      ]
     },
     "execution_count": 8,
     "metadata": {},
     "output_type": "execute_result"
    },
    {
     "data": {
      "text/plain": [
       "array([[<matplotlib.axes._subplots.AxesSubplot object at 0x00000113FA0235C0>]],\n",
       "      dtype=object)"
      ]
     },
     "execution_count": 8,
     "metadata": {},
     "output_type": "execute_result"
    },
    {
     "data": {
      "text/plain": [
       "array([[<matplotlib.axes._subplots.AxesSubplot object at 0x00000113FA076AC8>]],\n",
       "      dtype=object)"
      ]
     },
     "execution_count": 8,
     "metadata": {},
     "output_type": "execute_result"
    },
    {
     "data": {
      "text/plain": [
       "array([[<matplotlib.axes._subplots.AxesSubplot object at 0x00000113F9E5BFD0>]],\n",
       "      dtype=object)"
      ]
     },
     "execution_count": 8,
     "metadata": {},
     "output_type": "execute_result"
    },
    {
     "data": {
      "image/png": "[encoded data removed]",
      "text/plain": [
       "<Figure size 432x288 with 1 Axes>"
      ]
     },
     "metadata": {
      "needs_background": "light"
     },
     "output_type": "display_data"
    },
    {
     "data": {
      "image/png": "[encoded data removed]",
      "text/plain": [
       "<Figure size 432x288 with 1 Axes>"
      ]
     },
     "metadata": {
      "needs_background": "light"
     },
     "output_type": "display_data"
    },
    {
     "data": {
      "image/png": "[encoded data removed]",
      "text/plain": [
       "<Figure size 432x288 with 1 Axes>"
      ]
     },
     "metadata": {
      "needs_background": "light"
     },
     "output_type": "display_data"
    },
    {
     "data": {
      "image/png": "[encoded data removed]",
      "text/plain": [
       "<Figure size 432x288 with 1 Axes>"
      ]
     },
     "metadata": {
      "needs_background": "light"
     },
     "output_type": "display_data"
    },
    {
     "data": {
      "image/png": "[encoded data removed]",
      "text/plain": [
       "<Figure size 432x288 with 1 Axes>"
      ]
     },
     "metadata": {
      "needs_background": "light"
     },
     "output_type": "display_data"
    },
    {
     "data": {
      "image/png": "[encoded data removed]",
      "text/plain": [
       "<Figure size 432x288 with 1 Axes>"
      ]
     },
     "metadata": {
      "needs_background": "light"
     },
     "output_type": "display_data"
    },
    {
     "data": {
      "image/png": "[encoded data removed]",
      "text/plain": [
       "<Figure size 432x288 with 1 Axes>"
      ]
     },
     "metadata": {
      "needs_background": "light"
     },
     "output_type": "display_data"
    },
    {
     "data": {
      "image/png": "[encoded data removed]",
      "text/plain": [
       "<Figure size 432x288 with 1 Axes>"
      ]
     },
     "metadata": {
      "needs_background": "light"
     },
     "output_type": "display_data"
    },
    {
     "data": {
      "image/png": "[encoded data removed]",
      "text/plain": [
       "<Figure size 432x288 with 1 Axes>"
      ]
     },
     "metadata": {
      "needs_background": "light"
     },
     "output_type": "display_data"
    }
   ],
   "source": [
    "# to quickly get a sense of our data, let's create histograms for every feature in our datatable\n",
    "for variable in features:\n",
    "    df.hist(column=variable, bins=100);"
   ]
  },
  {
   "cell_type": "markdown",
   "metadata": {},
   "source": [
    "### it will be more helpful to explore this in Surface Owl...\n"
   ]
  },
  {
   "cell_type": "code",
   "execution_count": null,
   "metadata": {},
   "outputs": [],
   "source": []
  }
 ],
 "metadata": {
  "kernelspec": {
   "display_name": "Python 3",
   "language": "python",
   "name": "python3"
  },
  "language_info": {
   "codemirror_mode": {
    "name": "ipython",
    "version": 3
   },
   "file_extension": ".py",
   "mimetype": "text/x-python",
   "name": "python",
   "nbconvert_exporter": "python",
   "pygments_lexer": "ipython3",
   "version": "3.7.3"
  },
  "varInspector": {
   "cols": {
    "lenName": 16,
    "lenType": 16,
    "lenVar": 40
   },
   "kernels_config": {
    "python": {
     "delete_cmd_postfix": "",
     "delete_cmd_prefix": "del ",
     "library": "var_list.py",
     "varRefreshCmd": "print(var_dic_list())"
    },
    "r": {
     "delete_cmd_postfix": ") ",
     "delete_cmd_prefix": "rm(",
     "library": "var_list.r",
     "varRefreshCmd": "cat(var_dic_list()) "
    }
   },
   "types_to_exclude": [
    "module",
    "function",
    "builtin_function_or_method",
    "instance",
    "_Feature"
   ],
   "window_display": false
  }
 },
 "nbformat": 4,
 "nbformat_minor": 2
}
